{
 "cells": [
  {
   "cell_type": "code",
   "execution_count": 1,
   "metadata": {},
   "outputs": [],
   "source": [
    "from Fraction import *\n",
    "from Complex import *\n",
    "from Matrix import *\n",
    "from Algebra import *\n",
    "import Functions\n",
    "from Functions import display, LaTeX"
   ]
  },
  {
   "cell_type": "code",
   "execution_count": 2,
   "metadata": {},
   "outputs": [
    {
     "data": {
      "text/latex": [
       "$$\n",
       "3-\\mathrm{i}\n",
       "$$"
      ],
      "text/plain": [
       "<IPython.core.display.Latex object>"
      ]
     },
     "metadata": {},
     "output_type": "display_data"
    }
   ],
   "source": [
    "c = Complex(1, 1)\n",
    "display(c * Complex(1, -2))"
   ]
  },
  {
   "cell_type": "code",
   "execution_count": 3,
   "metadata": {},
   "outputs": [
    {
     "name": "stdout",
     "output_type": "stream",
     "text": [
      "1+\\mathrm{i}\n"
     ]
    }
   ],
   "source": [
    "print(LaTeX(Complex(1, 1)))"
   ]
  },
  {
   "cell_type": "code",
   "execution_count": 4,
   "metadata": {},
   "outputs": [
    {
     "data": {
      "text/latex": [
       "$$\n",
       "\\begin{bmatrix}\n",
       "7 & 3-\\mathrm{i} \\\\\n",
       "2+3\\mathrm{i} & 1-\\mathrm{i}\n",
       "\\end{bmatrix}\n",
       "$$"
      ],
      "text/plain": [
       "<IPython.core.display.Latex object>"
      ]
     },
     "metadata": {},
     "output_type": "display_data"
    }
   ],
   "source": [
    "m1 = Matrix(\n",
    "    [1, 2],\n",
    "    [-1, Complex(1, 1)]\n",
    ")\n",
    "m2 = Matrix(\n",
    "    [1, Complex(1, 1)],\n",
    "    [3, Complex(1, -1)]\n",
    ")\n",
    "display(m1 * m2)"
   ]
  },
  {
   "cell_type": "code",
   "execution_count": 5,
   "metadata": {},
   "outputs": [
    {
     "data": {
      "text/plain": [
       "1"
      ]
     },
     "execution_count": 5,
     "metadata": {},
     "output_type": "execute_result"
    }
   ],
   "source": [
    "t = Tensor([\n",
    "    [0, 1],\n",
    "    [2, 3]\n",
    "])\n",
    "t[0][1]"
   ]
  },
  {
   "cell_type": "code",
   "execution_count": 6,
   "metadata": {},
   "outputs": [
    {
     "data": {
      "text/latex": [
       "$$\n",
       "\\frac{7}{6}\n",
       "$$"
      ],
      "text/plain": [
       "<IPython.core.display.Latex object>"
      ]
     },
     "metadata": {},
     "output_type": "display_data"
    }
   ],
   "source": [
    "r1 = Fraction(1, 2)\n",
    "r2 = Fraction(2, 3)\n",
    "display(r1 + r2)"
   ]
  },
  {
   "cell_type": "code",
   "execution_count": 7,
   "metadata": {},
   "outputs": [
    {
     "data": {
      "text/latex": [
       "$$\n",
       "\\frac{2w^{3}-4w^{2}+6w-4}{w^{3}-3w^{2}+3w-1}\n",
       "$$"
      ],
      "text/plain": [
       "<IPython.core.display.Latex object>"
      ]
     },
     "metadata": {},
     "output_type": "display_data"
    },
    {
     "data": {
      "text/latex": [
       "$$\n",
       "-x^{2}y^{2}+2x^{2}y-x^{2}+4xy^{2}-2xyz^{2}-4xy+2xz^{2}-4y^{2}+4yz^{2}+6z^{2}+9\n",
       "$$"
      ],
      "text/plain": [
       "<IPython.core.display.Latex object>"
      ]
     },
     "metadata": {},
     "output_type": "display_data"
    }
   ],
   "source": [
    "Functions.ascending = False\n",
    "t = Polynomial([1, 1], 'w') / Polynomial([-1, 1], 'w')\n",
    "display(t*t - t + 2)\n",
    "f1 = Polynomial([\n",
    "    [3, 2],\n",
    "    [1, -1]\n",
    "], ['x', 'y'])\n",
    "f2 = Polynomial(\n",
    "    [3, 0, 1],\n",
    "    ['z']\n",
    ")\n",
    "display(f1 * (2 * f2 - f1))"
   ]
  }
 ],
 "metadata": {
  "kernelspec": {
   "display_name": "Python 3.10.4 64-bit",
   "language": "python",
   "name": "python3"
  },
  "language_info": {
   "codemirror_mode": {
    "name": "ipython",
    "version": 3
   },
   "file_extension": ".py",
   "mimetype": "text/x-python",
   "name": "python",
   "nbconvert_exporter": "python",
   "pygments_lexer": "ipython3",
   "version": "3.10.4"
  },
  "orig_nbformat": 4,
  "vscode": {
   "interpreter": {
    "hash": "aee8b7b246df8f9039afb4144a1f6fd8d2ca17a180786b69acc140d282b71a49"
   }
  }
 },
 "nbformat": 4,
 "nbformat_minor": 2
}
